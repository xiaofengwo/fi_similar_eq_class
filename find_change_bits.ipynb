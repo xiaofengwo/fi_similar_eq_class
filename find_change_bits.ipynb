{
 "cells": [
  {
   "cell_type": "code",
   "execution_count": 1,
   "metadata": {
    "collapsed": true
   },
   "outputs": [
    {
     "name": "stderr",
     "output_type": "stream",
     "text": [
      "C:\\Users\\xiaofengwo\\Anaconda3\\lib\\site-packages\\IPython\\core\\interactiveshell.py:2821: DtypeWarning: Columns (7,9,20,34) have mixed types. Specify dtype option on import or set low_memory=False.\n  if self.run_code(code, result):\n"
     ]
    },
    {
     "name": "stderr",
     "output_type": "stream",
     "text": [
      "C:\\Users\\xiaofengwo\\Anaconda3\\lib\\site-packages\\IPython\\core\\interactiveshell.py:2821: DtypeWarning: Columns (8) have mixed types. Specify dtype option on import or set low_memory=False.\n  if self.run_code(code, result):\n"
     ]
    },
    {
     "name": "stdout",
     "output_type": "stream",
     "text": [
      "raw data loaded.\n"
     ]
    },
    {
     "name": "stdout",
     "output_type": "stream",
     "text": [
      "(100000, 33)\nData Loaded:\nx_train shape:(10000, 32)\nx_test shape:(90000, 32)\ny_train shape:(10000, 1)\ny_test shape:(90000, 1)\n"
     ]
    }
   ],
   "source": [
    "import array\n",
    "import random\n",
    "import json\n",
    "import sys\n",
    "\n",
    "import numpy\n",
    "\n",
    "from math import sqrt\n",
    "\n",
    "from deap import algorithms\n",
    "from deap import base\n",
    "from deap import benchmarks\n",
    "from deap.benchmarks.tools import diversity, convergence, hypervolume\n",
    "from deap import creator\n",
    "from deap import tools\n",
    "\n",
    "import numpy as np\n",
    "import data\n",
    "from configuration import Config\n",
    "from collections import defaultdict\n",
    "from collections import Counter\n",
    "# prepare data\n",
    "df_results_with_machine_states = data.inner_join_result_and_machine_states(Config.results_path, Config.machine_states_path, Config.results_with_machine_states_path)\n",
    "x_train, x_test, y_train, y_test = data.load_data_from_csv(Config.results_with_machine_states_path)"
   ]
  },
  {
   "cell_type": "code",
   "execution_count": 2,
   "metadata": {
    "collapsed": true
   },
   "outputs": [
    {
     "name": "stdout",
     "output_type": "stream",
     "text": [
      "[17, 17, 11, 47, 47, 0, 0, 64, 63, 64, 8, 11, 47, 4, 64, 32, 3, 4, 4, 47, 4, 64, 32, 3, 1, 20, 20, 13, 7, 3, 20, 20]\n"
     ]
    }
   ],
   "source": [
    "import pandas as pd\n",
    "\n",
    "row_count, col_count = x_train.shape\n",
    "BIT_BOUND_HIGH = 64\n",
    "BIT_BOUND_LOW = 1\n",
    "\n",
    "appropriate_mask_bit_count_list = []\n",
    "\n",
    "for col_index in range(0, col_count):\n",
    "    mask = np.uint64(0xFFFFFFFFFFFFFFFF)\n",
    "    one = np.uint64(1)\n",
    "    appropriate_mask_bit_count = 0\n",
    "    while appropriate_mask_bit_count <= BIT_BOUND_HIGH:\n",
    "        x_train_temp = x_train[:, col_index] & mask\n",
    "        x_train_temp_unique = np.unique(x_train_temp)\n",
    "        if len(x_train_temp_unique) == 1:\n",
    "            break\n",
    "        mask = mask << one\n",
    "        appropriate_mask_bit_count = appropriate_mask_bit_count + 1\n",
    "    appropriate_mask_bit_count_list.append(appropriate_mask_bit_count)\n",
    "print(appropriate_mask_bit_count_list)\n",
    "    "
   ]
  },
  {
   "cell_type": "code",
   "execution_count": 34,
   "metadata": {},
   "outputs": [
    {
     "ename": "SyntaxError",
     "evalue": "invalid syntax (<ipython-input-34-ccf108fc2b14>, line 7)",
     "traceback": [
      "\u001b[0;36m  File \u001b[0;32m\"<ipython-input-34-ccf108fc2b14>\"\u001b[0;36m, line \u001b[0;32m7\u001b[0m\n\u001b[0;31m    print(x_train_temp[])\u001b[0m\n\u001b[0m                       ^\u001b[0m\n\u001b[0;31mSyntaxError\u001b[0m\u001b[0;31m:\u001b[0m invalid syntax\n"
     ],
     "output_type": "error"
    }
   ],
   "source": [
    "for i in range(0, col_count):\n",
    "    mask = np.uint64(1)\n",
    "    one = np.uint64(1)\n",
    "    appropriate_mask_bit_count = 1\n",
    "    while appropriate_mask_bit_count <= BIT_BOUND_HIGH:\n",
    "        x_train_temp = x_train[:][i] & mask\n",
    "        print(x_train_temp[])"
   ]
  },
  {
   "cell_type": "code",
   "execution_count": 5,
   "metadata": {},
   "outputs": [
    {
     "name": "stdout",
     "output_type": "stream",
     "text": [
      "0b1111\n"
     ]
    }
   ],
   "source": [
    "mask = np.uint64(0)\n",
    "one = np.uint64(1)\n",
    "cur_bit = 0        \n",
    "while cur_bit < 4:\n",
    "    mask = mask | one\n",
    "    cur_bit = cur_bit + 1\n",
    "    if cur_bit < 4:\n",
    "        mask = mask << one\n",
    "print(bin(mask))"
   ]
  },
  {
   "cell_type": "code",
   "execution_count": 21,
   "metadata": {},
   "outputs": [
    {
     "name": "stdout",
     "output_type": "stream",
     "text": [
      "1\n"
     ]
    }
   ],
   "source": [
    "import numpy as np\n",
    "\n",
    "rand = np.random.randint(0, 2)\n",
    "print(rand)"
   ]
  },
  {
   "cell_type": "code",
   "execution_count": null,
   "metadata": {},
   "outputs": [],
   "source": []
  }
 ],
 "metadata": {
  "kernelspec": {
   "display_name": "Python 2",
   "language": "python",
   "name": "python2"
  },
  "language_info": {
   "codemirror_mode": {
    "name": "ipython",
    "version": 2
   },
   "file_extension": ".py",
   "mimetype": "text/x-python",
   "name": "python",
   "nbconvert_exporter": "python",
   "pygments_lexer": "ipython2",
   "version": "2.7.6"
  }
 },
 "nbformat": 4,
 "nbformat_minor": 0
}
